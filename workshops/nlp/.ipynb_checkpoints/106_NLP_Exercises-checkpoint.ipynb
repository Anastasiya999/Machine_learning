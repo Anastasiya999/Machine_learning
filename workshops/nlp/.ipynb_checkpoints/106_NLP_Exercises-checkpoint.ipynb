{
 "cells": [
  {
   "cell_type": "markdown",
   "metadata": {},
   "source": [
    "# NLP Exercises\n",
    "\n",
    "We have five exercises in this section. The exercises are:\n",
    "1. Build your own tokenizer, where you need to implement two functions to implement a tokenizer based on regular expression.\n",
    "2. Get tags from Trump speech.\n",
    "3. Get the nouns in the last 10 sentences from Trump's speech and find the nouns divided by sentencens. Use SpaCy.\n",
    "4. Build your own Bag Of Words implementation using tokenizer created before.\n",
    "5. Build a 5-gram model and clean up the results."
   ]
  },
  {
   "cell_type": "markdown",
   "metadata": {},
   "source": [
    "## Exercise 1. Build your own tokenizer\n",
    "\n",
    "Build two different tokenizers:\n",
    "- ``tokenize_sentence``: function tokenizing text into sentences,\n",
    "- ``tokenize_word``: function tokenizing text into words."
   ]
  },
  {
   "cell_type": "code",
   "execution_count": 94,
   "metadata": {},
   "outputs": [
    {
     "name": "stdout",
     "output_type": "stream",
     "text": [
      "Tokenized sentences:\n",
      "['Here we go again.', 'I was supposed to add this text later.', \"Well, it's 10.p.m. here, and I'm actually having fun making this course.\", ':o', 'I hope you are getting along fine with this presentation, I really did try.', 'And one last sentence, just so you can test you tokenizers better.']\n",
      "Tokenized words:\n",
      "['Here', 'we', 'go', 'again', 'I', 'was', 'supposed', 'to', 'add', 'this', 'text', 'later', 'Well', \"it's\", '10.p.m', 'here', 'and', \"I'm\", 'actually', 'having', 'fun', 'making', 'this', 'course', ':o', 'I', 'hope', 'you', 'are', 'getting', 'along', 'fine', 'with', 'this', 'presentation', 'I', 'really', 'did', 'try', 'And', 'one', 'last', 'sentence', 'just', 'so', 'you', 'can', 'test', 'you', 'tokenizers', 'better']\n"
     ]
    }
   ],
   "source": [
    "from typing import List\n",
    "import re\n",
    "\n",
    "def find_emoticon(text):\n",
    "    output = []\n",
    "    for word in text:\n",
    "        if re.search(\":o\", word):\n",
    "            output.append(\":o\")\n",
    "            output.append(re.sub(\":o\",'', word))\n",
    "        else:\n",
    "            output.append(word)\n",
    "    return output\n",
    "\n",
    "def tokenize_words(text: str) -> list:\n",
    "    \"\"\"Tokenize text into words using regex.\n",
    "\n",
    "    Parameters\n",
    "    ----------\n",
    "    text: str\n",
    "            Text to be tokenized\n",
    "\n",
    "    Returns\n",
    "    -------\n",
    "    List[str]\n",
    "            List containing words tokenized from text\n",
    "\n",
    "    \"\"\"\n",
    "    tokenized = re.split('[.,]*\\\\s+', text)\n",
    "    for i, word in enumerate(tokenized):\n",
    "        if word[-1] == '.':\n",
    "            tokenized[i] = word[:-1]\n",
    "    return find_emoticon(tokenized)\n",
    "\n",
    "def tokenize_sentence(text: str) -> list:\n",
    "    \"\"\"Tokenize text into words using regex.\n",
    "\n",
    "    Parameters\n",
    "    ----------\n",
    "    text: str\n",
    "            Text to be tokenized\n",
    "\n",
    "    Returns\n",
    "    -------\n",
    "    List[str]\n",
    "            List containing words tokenized from text\n",
    "\n",
    "    \"\"\"\n",
    "    #return re.split(\"(?<!\\d\\.p\\.m.)(?<=[!?.]) +\",text)\n",
    "    tokenized = re.split(\"(?<!\\d\\.p\\.m.)(?<=[!?.])\\s+\", text)\n",
    "    return find_emoticon(tokenized)\n",
    "\n",
    "\n",
    "text = \"Here we go again. I was supposed to add this text later. \\\n",
    "Well, it's 10.p.m. here, and I'm actually having fun making this course. :o\\\n",
    "I hope you are getting along fine with this presentation, I really did try. \\\n",
    "And one last sentence, just so you can test you tokenizers better.\"\n",
    "\n",
    "print(\"Tokenized sentences:\")\n",
    "print(tokenize_sentence(text))\n",
    "\n",
    "print(\"Tokenized words:\")\n",
    "print(tokenize_words(text))"
   ]
  },
  {
   "cell_type": "markdown",
   "metadata": {},
   "source": [
    "## Exercise 2. Get tags from Trump speech using NLTK\n",
    "\n",
    "You should use the ``trump.txt`` file, read it and find the tags for each word. Use NLTK for it."
   ]
  },
  {
   "cell_type": "code",
   "execution_count": 95,
   "metadata": {},
   "outputs": [
    {
     "name": "stdout",
     "output_type": "stream",
     "text": [
      "Tagged: [('Thank', 'NNP'), ('you', 'PRP'), ('very', 'RB'), ('much', 'RB'), ('.', '.'), ('Mr.', 'NNP'), ('Speaker', 'NNP'), (',', ','), ('Mr.', 'NNP'), ('Vice', 'NNP'), ('President', 'NNP'), (',', ','), ('Members', 'NNP'), ('of', 'IN'), ('Congress', 'NNP'), (',', ','), ('the', 'DT'), ('First', 'NNP'), ('Lady', 'NNP'), ('of', 'IN'), ('the', 'DT'), ('United', 'NNP'), ('States', 'NNPS'), (',', ','), ('and', 'CC'), ('citizens', 'NNS'), ('of', 'IN'), ('America', 'NNP'), (':', ':'), ('Tonight', 'NN')]...\n"
     ]
    }
   ],
   "source": [
    "import nltk\n",
    "from nltk.tokenize import word_tokenize\n",
    "file = open(\"../datasets/trump.txt\", \"r\",encoding=\"utf-8\") \n",
    "trump = file.read()\n",
    "words = word_tokenize(trump)\n",
    "\n",
    "tags = nltk.pos_tag(words)\n",
    "print(\"Tagged: \" + str(tags[:30])+ \"...\")\n",
    "# fill the gap and imports"
   ]
  },
  {
   "cell_type": "markdown",
   "metadata": {},
   "source": [
    "## Exercise 3. Get the nouns in the last 10 sentences from Trump's speech and find the nouns divided by sentencens. Use SpaCy.\n",
    "\n",
    "Please use Python list features to get the last 10 sentences and display nouns from it."
   ]
  },
  {
   "cell_type": "code",
   "execution_count": 96,
   "metadata": {},
   "outputs": [
    {
     "name": "stdout",
     "output_type": "stream",
     "text": [
      "['we', 'vision', 'we', 'our', 'years', 'freedom', 'we', 'tonight', 'chapter', 'greatness']\n",
      "['time', 'thinking']\n",
      "['time', 'fights', 'us']\n",
      "['We', 'courage', 'dreams', 'our', 'hearts', 'bravery', 'hopes', 'our', 'souls', 'confidence', 'hopes', 'dreams', 'action']\n",
      "['America', 'our', 'aspirations', 'our', 'fears', 'future', 'failures', 'past', 'our', 'vision', 'our', 'doubts']\n",
      "['I', 'citizens', 'renewal', 'spirit']\n",
      "['I', 'Members', 'Congress', 'me', 'things', 'our', 'country']\n",
      "['I', 'everyone', 'tonight', 'moment']\n",
      "['yourselves', 'your', 'future', 'America']\n",
      "['you', 'God', 'you', 'God', 'United', 'States']\n"
     ]
    }
   ],
   "source": [
    "import spacy\n",
    "\n",
    "file = open(\"../datasets/trump.txt\", \"r\",encoding='utf-8') \n",
    "trump = file.read() \n",
    "last_sentences = tokenize_sentence(trump)[-10:]\n",
    "last_sentences = \" \".join(last_sentences)\n",
    "\n",
    "nlp = spacy.load(\"en_core_web_sm\")\n",
    "doc = nlp(last_sentences)\n",
    "\n",
    "for span in doc.sents:\n",
    "    nouns = []\n",
    "    for i in range(span.start, span.end):\n",
    "        token = doc[i]\n",
    "        if token.pos_ == \"NOUN\" or token.pos_ == \"PROPN\" or token.pos_==\"PRON\":\n",
    "            nouns.append(token.text)\n",
    "    print(str(nouns))\n",
    "### here comes your code\n"
   ]
  },
  {
   "cell_type": "markdown",
   "metadata": {},
   "source": [
    "## Exercise 4. Build your own Bag Of Words implementation using tokenizer created before \n",
    "\n",
    "You need to implement following methods:\n",
    "\n",
    "- ``fit_transform`` - gets a list of strings and returns matrix with it's BoW representation\n",
    "- ``get_features_names`` - returns list of words corresponding to columns in BoW"
   ]
  },
  {
   "cell_type": "code",
   "execution_count": 124,
   "metadata": {},
   "outputs": [
    {
     "name": "stdout",
     "output_type": "stream",
     "text": [
      "[[0. 0. 1. 1. 0. 0. 1. 0. 0. 0. 1. 0. 0. 0. 0. 0. 1. 1. 0. 0. 0. 0. 0. 0.\n",
      "  0. 0. 0. 0. 0. 1. 0.]\n",
      " [0. 0. 0. 0. 0. 0. 0. 0. 1. 0. 0. 0. 0. 1. 0. 1. 0. 0. 0. 0. 0. 0. 0. 0.\n",
      "  0. 0. 0. 1. 0. 1. 0.]\n",
      " [0. 0. 0. 0. 0. 0. 0. 1. 0. 0. 1. 0. 0. 0. 0. 0. 0. 0. 0. 0. 0. 0. 0. 0.\n",
      "  1. 1. 1. 0. 0. 0. 0.]\n",
      " [0. 1. 0. 0. 0. 1. 0. 0. 0. 0. 0. 0. 1. 0. 1. 0. 1. 0. 1. 1. 0. 0. 1. 0.\n",
      "  1. 0. 0. 0. 0. 1. 1.]\n",
      " [1. 0. 0. 0. 2. 0. 0. 0. 0. 1. 0. 1. 0. 0. 0. 0. 0. 0. 0. 0. 1. 1. 2. 1.\n",
      "  0. 0. 1. 0. 1. 0. 0.]]\n",
      "['a', 'as', 'bag', 'based', 'below', 'can', 'counting', 'document', 'documents', 'gives', 'is', 'matrix', 'most', 'multiple', 'occur', 'occurences', 'of', 'on', 'once', 'only', 'pretty', 'really', 'see', 'sparse', 'the', 'third', 'this', 'throughout', 'us', 'words', 'you']\n"
     ]
    },
    {
     "data": {
      "text/plain": [
       "31"
      ]
     },
     "execution_count": 124,
     "metadata": {},
     "output_type": "execute_result"
    }
   ],
   "source": [
    "import numpy as np\n",
    "import spacy\n",
    "\n",
    "class BagOfWords:\n",
    "    \"\"\"Basic BoW implementation.\"\"\"\n",
    "    \n",
    "    __nlp = spacy.load(\"en_core_web_sm\")\n",
    "    __bow_list = []\n",
    "    __words_lookup = {}\n",
    "    \n",
    "    # your code goes maybe also here  \n",
    "    def __adapt_tokens(self, words):\n",
    "        words = [word.lower() for sentence in words for word in sentence]\n",
    "        words = set(words)\n",
    "        words = sorted(list(words))\n",
    "        \n",
    "        return words\n",
    "    \n",
    "    def __set_tokens_lookup(self, tokens):\n",
    "        for i, token in enumerate(tokens):\n",
    "            self.__words_lookup[token] = i\n",
    "    \n",
    "    def __tokenize_text(self, text):\n",
    "        words = [[] for sentence in text]\n",
    "        for i, sentence in enumerate(text):\n",
    "            tokenized = tokenize_words(sentence)\n",
    "            words[i] += tokenized\n",
    "        return words\n",
    "        \n",
    "    \n",
    "    \n",
    "    def fit_transform(self, corpus: list):\n",
    "        \"\"\"Transform list of strings into BoW array.\n",
    "\n",
    "        Parameters\n",
    "        ----------\n",
    "        corpus: List[str]\n",
    "                Corpus of texts to be transforrmed\n",
    "\n",
    "        Returns\n",
    "        -------\n",
    "        np.array\n",
    "                Matrix representation of BoW\n",
    "\n",
    "        \"\"\"\n",
    "        tokenized = self.__tokenize_text(corpus)\n",
    "        adapted_tokens = self.__adapt_tokens(tokenized)\n",
    "        \n",
    "        self.__bow_list = adapted_tokens\n",
    "        self.__set_tokens_lookup(adapted_tokens)\n",
    "        \n",
    "        \n",
    "        \n",
    "        bow_matrix = np.zeros((len(corpus), len(self.__bow_list)))\n",
    "        \n",
    "        for i, sentence in enumerate(tokenized):\n",
    "            for token in sentence:\n",
    "                word_id = self.__words_lookup[token.lower()]\n",
    "                bow_matrix[i][word_id] += 1\n",
    "        \n",
    "              \n",
    "        return bow_matrix\n",
    "      \n",
    "\n",
    "    def get_feature_names(self) -> list:\n",
    "        \"\"\"Return words corresponding to columns of matrix.\n",
    "\n",
    "        Returns\n",
    "        -------\n",
    "        List[str]\n",
    "                Words being transformed by fit function\n",
    "\n",
    "        \"\"\"   \n",
    "        # your code goes here\n",
    "        \n",
    "        return self.__bow_list\n",
    "\n",
    "corpus = [\n",
    "     'Bag Of Words is based on counting',\n",
    "     'words occurences throughout multiple documents.',\n",
    "     'This is the third document.',\n",
    "     'As you can see most of the words occur only once.',\n",
    "     'This gives us a pretty sparse matrix, see below. Really, see below',\n",
    "]    \n",
    "    \n",
    "vectorizer = BagOfWords()\n",
    "\n",
    "X = vectorizer.fit_transform(corpus)\n",
    "print(X)\n",
    "print(vectorizer.get_feature_names())\n",
    "len(vectorizer.get_feature_names())"
   ]
  },
  {
   "cell_type": "markdown",
   "metadata": {},
   "source": [
    "## Exercise 5. Build a 5-gram model and clean up the results.\n",
    "\n",
    "There are three tasks to do:\n",
    "1. Use 5-gram model instead of 3.\n",
    "2. Change to capital letter each first letter of a sentence.\n",
    "3. Remove the whitespace between the last word in a sentence and . ! or ?.\n",
    "\n",
    "Hint: for 2. and 3. implement a function called ``clean_generated()`` that takes the generated text and fix both issues at once. It could be easier to fix the text after it's generated rather then doing some changes in the while loop."
   ]
  },
  {
   "cell_type": "code",
   "execution_count": 134,
   "metadata": {},
   "outputs": [],
   "source": [
    "from nltk.book import *\n",
    "import random\n",
    "\n",
    "wall_street = text7.tokens\n",
    "\n",
    "import re\n",
    "\n",
    "tokens = wall_street\n",
    "\n",
    "def cleanup():\n",
    "    compiled_pattern = re.compile(\"^[a-zA-Z0-9.!?]\")\n",
    "    clean = list(filter(compiled_pattern.match,tokens))\n",
    "    return clean\n",
    "tokens = cleanup()\n",
    "\n",
    "def build_ngrams():\n",
    "    ngrams = []\n",
    "    for i in range(len(tokens)-N+1):\n",
    "        ngrams.append(tokens[i:i+N])\n",
    "    return ngrams\n",
    "\n",
    "def ngram_freqs(ngrams):\n",
    "    counts = {}\n",
    "\n",
    "    for ngram in ngrams:\n",
    "        token_seq  = SEP.join(ngram[:-1])\n",
    "        last_token = ngram[-1]\n",
    "\n",
    "        if token_seq not in counts:\n",
    "            counts[token_seq] = {}\n",
    "\n",
    "        if last_token not in counts[token_seq]:\n",
    "            counts[token_seq][last_token] = 0\n",
    "\n",
    "        counts[token_seq][last_token] += 1;\n",
    "\n",
    "    return counts\n",
    "\n",
    "def next_word(text, N, counts):\n",
    "\n",
    "    token_seq = SEP.join(text.split()[-(N-1):]);\n",
    "    choices = counts[token_seq].items();\n",
    "\n",
    "    total = sum(weight for choice, weight in choices)\n",
    "    r = random.uniform(0, total)\n",
    "    upto = 0\n",
    "    for choice, weight in choices:\n",
    "        upto += weight;\n",
    "        if upto > r: return choice\n",
    "    assert False # should not reach here"
   ]
  },
  {
   "cell_type": "code",
   "execution_count": 149,
   "metadata": {},
   "outputs": [
    {
     "name": "stdout",
     "output_type": "stream",
     "text": [
      ">>Before: \n",
      "we have to be more like the department store not the boutique . IRAs . SHAREDATA Inc. said 0 it plans to sell 30 billion in notes and bonds next week but will delay the auction unless Congress quickly raises the debt ceiling . U.S. farmers net income rose to a record 59.9 billion last year . May Stores St. Louis runs such well-known department stores as Lord Taylor . N.V . DSM said 0 net income in the year ending June 30 1990 to fall below a recent analyst estimate of 1.65 a share for each of Tony Lama 2.1 million shares outstanding .\n",
      ">>After: \n",
      "We have to be more like the department store not the boutique. Iras. Sharedata Inc. Said 0 it plans to sell 30 billion in notes and bonds next week but will delay the auction unless Congress quickly raises the debt ceiling. U.S. Farmers net income rose to a record 59.9 billion last year. May Stores St. Louis runs such well-known department stores as Lord Taylor. N.V. Dsm said 0 net income in the year ending June 30 1990 to fall below a recent analyst estimate of 1.65 a share for each of Tony Lama 2.1 million shares outstanding.\n"
     ]
    }
   ],
   "source": [
    "def clean_generated(text):\n",
    "    # put your code here\n",
    "    clean_text = re.compile(\"^\\w\").sub(lambda x: x.group().capitalize(), text)\n",
    "    clean_text = re.compile(\"\\s\\.\").sub('.', clean_text)\n",
    "    clean_text = re.compile(\"(?<=[.?!] )(\\w+)\").sub(lambda x: x.group().capitalize(), clean_text)\n",
    "    return clean_text\n",
    "\n",
    "N = 5 # fix it for other value of N\n",
    "\n",
    "SEP=\" \"\n",
    "\n",
    "sentence_count=10\n",
    "\n",
    "ngrams = build_ngrams()\n",
    "start_seq=\"We have to be\"\n",
    "\n",
    "counts = ngram_freqs(ngrams)\n",
    "\n",
    "if start_seq is None: start_seq = random.choice(list(counts.keys()))\n",
    "generated = start_seq.lower();\n",
    "\n",
    "sentences = 0\n",
    "while sentences < sentence_count:\n",
    "    generated += SEP + next_word(generated, N, counts)\n",
    "    sentences += 1 if generated.endswith(('.','!', '?')) else 0\n",
    "\n",
    "# put your code here:\n",
    "\n",
    "print(\">>Before: \\n\" + generated)\n",
    "print(\">>After: \\n\" + clean_generated(generated))"
   ]
  },
  {
   "cell_type": "code",
   "execution_count": null,
   "metadata": {},
   "outputs": [],
   "source": []
  }
 ],
 "metadata": {
  "kernelspec": {
   "display_name": "Python 3",
   "language": "python",
   "name": "python3"
  },
  "language_info": {
   "codemirror_mode": {
    "name": "ipython",
    "version": 3
   },
   "file_extension": ".py",
   "mimetype": "text/x-python",
   "name": "python",
   "nbconvert_exporter": "python",
   "pygments_lexer": "ipython3",
   "version": "3.6.9"
  }
 },
 "nbformat": 4,
 "nbformat_minor": 4
}
